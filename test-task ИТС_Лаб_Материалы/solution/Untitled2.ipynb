{
  "nbformat": 4,
  "nbformat_minor": 0,
  "metadata": {
    "colab": {
      "provenance": []
    },
    "kernelspec": {
      "name": "python3",
      "display_name": "Python 3"
    },
    "language_info": {
      "name": "python"
    }
  },
  "cells": [
    {
      "cell_type": "code",
      "execution_count": 8,
      "metadata": {
        "id": "YssJWtY42fyk",
        "colab": {
          "base_uri": "https://localhost:8080/",
          "height": 92
        },
        "outputId": "f99e712b-2dc5-4827-ba44-c3c18e5410fa"
      },
      "outputs": [
        {
          "output_type": "display_data",
          "data": {
            "text/plain": [
              "<IPython.core.display.HTML object>"
            ],
            "text/html": [
              "\n",
              "     <input type=\"file\" id=\"files-b14af12a-251b-4c9c-8009-302834b2ae54\" name=\"files[]\" multiple disabled\n",
              "        style=\"border:none\" />\n",
              "     <output id=\"result-b14af12a-251b-4c9c-8009-302834b2ae54\">\n",
              "      Upload widget is only available when the cell has been executed in the\n",
              "      current browser session. Please rerun this cell to enable.\n",
              "      </output>\n",
              "      <script>// Copyright 2017 Google LLC\n",
              "//\n",
              "// Licensed under the Apache License, Version 2.0 (the \"License\");\n",
              "// you may not use this file except in compliance with the License.\n",
              "// You may obtain a copy of the License at\n",
              "//\n",
              "//      http://www.apache.org/licenses/LICENSE-2.0\n",
              "//\n",
              "// Unless required by applicable law or agreed to in writing, software\n",
              "// distributed under the License is distributed on an \"AS IS\" BASIS,\n",
              "// WITHOUT WARRANTIES OR CONDITIONS OF ANY KIND, either express or implied.\n",
              "// See the License for the specific language governing permissions and\n",
              "// limitations under the License.\n",
              "\n",
              "/**\n",
              " * @fileoverview Helpers for google.colab Python module.\n",
              " */\n",
              "(function(scope) {\n",
              "function span(text, styleAttributes = {}) {\n",
              "  const element = document.createElement('span');\n",
              "  element.textContent = text;\n",
              "  for (const key of Object.keys(styleAttributes)) {\n",
              "    element.style[key] = styleAttributes[key];\n",
              "  }\n",
              "  return element;\n",
              "}\n",
              "\n",
              "// Max number of bytes which will be uploaded at a time.\n",
              "const MAX_PAYLOAD_SIZE = 100 * 1024;\n",
              "\n",
              "function _uploadFiles(inputId, outputId) {\n",
              "  const steps = uploadFilesStep(inputId, outputId);\n",
              "  const outputElement = document.getElementById(outputId);\n",
              "  // Cache steps on the outputElement to make it available for the next call\n",
              "  // to uploadFilesContinue from Python.\n",
              "  outputElement.steps = steps;\n",
              "\n",
              "  return _uploadFilesContinue(outputId);\n",
              "}\n",
              "\n",
              "// This is roughly an async generator (not supported in the browser yet),\n",
              "// where there are multiple asynchronous steps and the Python side is going\n",
              "// to poll for completion of each step.\n",
              "// This uses a Promise to block the python side on completion of each step,\n",
              "// then passes the result of the previous step as the input to the next step.\n",
              "function _uploadFilesContinue(outputId) {\n",
              "  const outputElement = document.getElementById(outputId);\n",
              "  const steps = outputElement.steps;\n",
              "\n",
              "  const next = steps.next(outputElement.lastPromiseValue);\n",
              "  return Promise.resolve(next.value.promise).then((value) => {\n",
              "    // Cache the last promise value to make it available to the next\n",
              "    // step of the generator.\n",
              "    outputElement.lastPromiseValue = value;\n",
              "    return next.value.response;\n",
              "  });\n",
              "}\n",
              "\n",
              "/**\n",
              " * Generator function which is called between each async step of the upload\n",
              " * process.\n",
              " * @param {string} inputId Element ID of the input file picker element.\n",
              " * @param {string} outputId Element ID of the output display.\n",
              " * @return {!Iterable<!Object>} Iterable of next steps.\n",
              " */\n",
              "function* uploadFilesStep(inputId, outputId) {\n",
              "  const inputElement = document.getElementById(inputId);\n",
              "  inputElement.disabled = false;\n",
              "\n",
              "  const outputElement = document.getElementById(outputId);\n",
              "  outputElement.innerHTML = '';\n",
              "\n",
              "  const pickedPromise = new Promise((resolve) => {\n",
              "    inputElement.addEventListener('change', (e) => {\n",
              "      resolve(e.target.files);\n",
              "    });\n",
              "  });\n",
              "\n",
              "  const cancel = document.createElement('button');\n",
              "  inputElement.parentElement.appendChild(cancel);\n",
              "  cancel.textContent = 'Cancel upload';\n",
              "  const cancelPromise = new Promise((resolve) => {\n",
              "    cancel.onclick = () => {\n",
              "      resolve(null);\n",
              "    };\n",
              "  });\n",
              "\n",
              "  // Wait for the user to pick the files.\n",
              "  const files = yield {\n",
              "    promise: Promise.race([pickedPromise, cancelPromise]),\n",
              "    response: {\n",
              "      action: 'starting',\n",
              "    }\n",
              "  };\n",
              "\n",
              "  cancel.remove();\n",
              "\n",
              "  // Disable the input element since further picks are not allowed.\n",
              "  inputElement.disabled = true;\n",
              "\n",
              "  if (!files) {\n",
              "    return {\n",
              "      response: {\n",
              "        action: 'complete',\n",
              "      }\n",
              "    };\n",
              "  }\n",
              "\n",
              "  for (const file of files) {\n",
              "    const li = document.createElement('li');\n",
              "    li.append(span(file.name, {fontWeight: 'bold'}));\n",
              "    li.append(span(\n",
              "        `(${file.type || 'n/a'}) - ${file.size} bytes, ` +\n",
              "        `last modified: ${\n",
              "            file.lastModifiedDate ? file.lastModifiedDate.toLocaleDateString() :\n",
              "                                    'n/a'} - `));\n",
              "    const percent = span('0% done');\n",
              "    li.appendChild(percent);\n",
              "\n",
              "    outputElement.appendChild(li);\n",
              "\n",
              "    const fileDataPromise = new Promise((resolve) => {\n",
              "      const reader = new FileReader();\n",
              "      reader.onload = (e) => {\n",
              "        resolve(e.target.result);\n",
              "      };\n",
              "      reader.readAsArrayBuffer(file);\n",
              "    });\n",
              "    // Wait for the data to be ready.\n",
              "    let fileData = yield {\n",
              "      promise: fileDataPromise,\n",
              "      response: {\n",
              "        action: 'continue',\n",
              "      }\n",
              "    };\n",
              "\n",
              "    // Use a chunked sending to avoid message size limits. See b/62115660.\n",
              "    let position = 0;\n",
              "    do {\n",
              "      const length = Math.min(fileData.byteLength - position, MAX_PAYLOAD_SIZE);\n",
              "      const chunk = new Uint8Array(fileData, position, length);\n",
              "      position += length;\n",
              "\n",
              "      const base64 = btoa(String.fromCharCode.apply(null, chunk));\n",
              "      yield {\n",
              "        response: {\n",
              "          action: 'append',\n",
              "          file: file.name,\n",
              "          data: base64,\n",
              "        },\n",
              "      };\n",
              "\n",
              "      let percentDone = fileData.byteLength === 0 ?\n",
              "          100 :\n",
              "          Math.round((position / fileData.byteLength) * 100);\n",
              "      percent.textContent = `${percentDone}% done`;\n",
              "\n",
              "    } while (position < fileData.byteLength);\n",
              "  }\n",
              "\n",
              "  // All done.\n",
              "  yield {\n",
              "    response: {\n",
              "      action: 'complete',\n",
              "    }\n",
              "  };\n",
              "}\n",
              "\n",
              "scope.google = scope.google || {};\n",
              "scope.google.colab = scope.google.colab || {};\n",
              "scope.google.colab._files = {\n",
              "  _uploadFiles,\n",
              "  _uploadFilesContinue,\n",
              "};\n",
              "})(self);\n",
              "</script> "
            ]
          },
          "metadata": {}
        },
        {
          "output_type": "stream",
          "name": "stdout",
          "text": [
            "Saving planet.csv to planet (1).csv\n",
            "Uploaded: planet (1).csv\n"
          ]
        }
      ],
      "source": [
        "from google.colab import files\n",
        "import pandas as pd\n",
        "\n",
        "# Upload planet.csv file\n",
        "uploaded = files.upload()\n",
        "\n",
        "# Load the data\n",
        "filename = list(uploaded.keys())[0]  # Gets your uploaded filename\n",
        "print(f\"Uploaded: {filename}\")"
      ]
    },
    {
      "cell_type": "code",
      "source": [
        "import numpy as np\n",
        "\n",
        "# Load and clean the CSV\n",
        "df = pd.read_csv(filename)\n",
        "print(\"Original shape:\", df.shape)\n",
        "\n",
        "# Keep only numeric data, drop any corrupt rows\n",
        "df = df.apply(pd.to_numeric, errors='coerce').dropna()\n",
        "print(\"Clean shape:\", df.shape)\n",
        "\n",
        "# Extract coordinates (skip the color column)\n",
        "planet_coords = df.iloc[:, 1:].values.astype(float)\n",
        "\n",
        "# Calculate planet radius (from first point)\n",
        "R = np.linalg.norm(planet_coords[0, :3])\n",
        "print(f\"Planet radius: {R:.2f}\")\n",
        "\n",
        "# If R is too small (<1.0), scale up the coordinates\n",
        "if R < 1.0:\n",
        "    planet_coords *= 10  # Makes radius 10x larger\n",
        "    R = np.linalg.norm(planet_coords[0, :3])\n",
        "    print(f\"Adjusted radius: {R:.2f}\")"
      ],
      "metadata": {
        "colab": {
          "base_uri": "https://localhost:8080/"
        },
        "id": "yREFux_pCXdr",
        "outputId": "a21cf309-700d-4d81-fd59-b4c9006996e7"
      },
      "execution_count": 9,
      "outputs": [
        {
          "output_type": "stream",
          "name": "stdout",
          "text": [
            "Original shape: (5001, 1501)\n",
            "Clean shape: (5001, 1501)\n",
            "Planet radius: 0.08\n",
            "Adjusted radius: 0.78\n"
          ]
        }
      ]
    },
    {
      "cell_type": "code",
      "source": [
        "import numpy as np\n",
        "from scipy.spatial import cKDTree\n",
        "from tqdm import tqdm\n",
        "\n",
        "# Parameters\n",
        "epsilon = 0.02  # Keep this spacing\n",
        "n_bugs_per_color = 100\n",
        "batch_size = 1000  # Generate 1000 candidates at once\n",
        "\n",
        "# Prepare data\n",
        "existing_points = planet_coords.reshape(-1, 3)\n",
        "tree = cKDTree(existing_points)\n",
        "bugs = []\n",
        "\n",
        "for color_idx in [0, 1, 2]:\n",
        "    color_name = ['yellow', 'blue', 'red'][color_idx]\n",
        "    print(f\"\\nGenerating {n_bugs_per_color} {color_name} bugs:\")\n",
        "\n",
        "    # Pre-allocate memory\n",
        "    new_points = np.empty((n_bugs_per_color, 3))\n",
        "    accepted = 0\n",
        "\n",
        "    with tqdm(total=n_bugs_per_color) as pbar:\n",
        "        while accepted < n_bugs_per_color:\n",
        "            # Generate BATCH of random points on sphere\n",
        "            theta = np.random.uniform(0, 2*np.pi, size=batch_size)\n",
        "            phi = np.arccos(np.random.uniform(-1, 1, size=batch_size))\n",
        "            x = R * np.sin(phi) * np.cos(theta)\n",
        "            y = R * np.sin(phi) * np.sin(theta)\n",
        "            z = R * np.cos(phi)\n",
        "            candidates = np.column_stack((x, y, z))\n",
        "\n",
        "            # Batch distance check\n",
        "            distances, _ = tree.query(candidates, k=1)\n",
        "            valid_mask = distances >= epsilon\n",
        "\n",
        "            # Add valid points\n",
        "            num_valid = min(np.sum(valid_mask), n_bugs_per_color - accepted)\n",
        "            if num_valid > 0:\n",
        "                new_points[accepted:accepted+num_valid] = candidates[valid_mask][:num_valid]\n",
        "                accepted += num_valid\n",
        "                pbar.update(num_valid)\n",
        "\n",
        "            # Update tree periodically\n",
        "            if accepted > 0 and accepted % 20 == 0:\n",
        "                tree = cKDTree(np.vstack([existing_points, new_points[:accepted]]))\n",
        "\n",
        "    # Add to final bugs list\n",
        "    bugs.extend([[color_idx, *p] for p in new_points])\n",
        "\n",
        "# Save results\n",
        "bugs_array = np.array(bugs)\n",
        "bugs_expanded = np.hstack([bugs_array[:, [0]], np.tile(bugs_array[:, 1:], (1, 500))])\n",
        "pd.DataFrame(bugs_expanded).to_csv(\"bugs.csv\", index=False, header=False)\n",
        "print(\"Done! Saved to bugs.csv\")"
      ],
      "metadata": {
        "colab": {
          "base_uri": "https://localhost:8080/"
        },
        "id": "5on6CZAmIwFR",
        "outputId": "f5fe53df-3e38-42cd-9d7c-72cd644361d8"
      },
      "execution_count": 13,
      "outputs": [
        {
          "output_type": "stream",
          "name": "stdout",
          "text": [
            "\n",
            "Generating 100 yellow bugs:\n"
          ]
        },
        {
          "output_type": "stream",
          "name": "stderr",
          "text": [
            "100%|██████████| 100/100 [00:01<00:00, 55.56it/s]\n"
          ]
        },
        {
          "output_type": "stream",
          "name": "stdout",
          "text": [
            "\n",
            "Generating 100 blue bugs:\n"
          ]
        },
        {
          "output_type": "stream",
          "name": "stderr",
          "text": [
            "100%|██████████| 100/100 [00:01<00:00, 55.89it/s]\n"
          ]
        },
        {
          "output_type": "stream",
          "name": "stdout",
          "text": [
            "\n",
            "Generating 100 red bugs:\n"
          ]
        },
        {
          "output_type": "stream",
          "name": "stderr",
          "text": [
            "100%|██████████| 100/100 [00:01<00:00, 55.23it/s]\n"
          ]
        },
        {
          "output_type": "stream",
          "name": "stdout",
          "text": [
            "Done! Saved to bugs.csv\n"
          ]
        }
      ]
    },
    {
      "cell_type": "code",
      "source": [
        "import pandas as pd\n",
        "bugs_df = pd.read_csv(\"bugs.csv\", header=None)\n",
        "print(f\"Generated {len(bugs_df)} bugs\")\n",
        "print(\"First 3 rows:\\n\", bugs_df.head(3))"
      ],
      "metadata": {
        "colab": {
          "base_uri": "https://localhost:8080/"
        },
        "id": "01om0YQ2Nq2-",
        "outputId": "2bdbad0a-f0d2-4807-edd0-ecfd84fb6ccb"
      },
      "execution_count": 14,
      "outputs": [
        {
          "output_type": "stream",
          "name": "stdout",
          "text": [
            "Generated 300 bugs\n",
            "First 3 rows:\n",
            "    0         1         2         3         4         5         6         7     \\\n",
            "0   0.0 -0.388812 -0.668873  0.062528 -0.388812 -0.668873  0.062528 -0.388812   \n",
            "1   0.0 -0.516490 -0.293729 -0.499436 -0.516490 -0.293729 -0.499436 -0.516490   \n",
            "2   0.0 -0.464009  0.602139  0.156843 -0.464009  0.602139  0.156843 -0.464009   \n",
            "\n",
            "       8         9     ...      1491      1492      1493      1494      1495  \\\n",
            "0 -0.668873  0.062528  ...  0.062528 -0.388812 -0.668873  0.062528 -0.388812   \n",
            "1 -0.293729 -0.499436  ... -0.499436 -0.516490 -0.293729 -0.499436 -0.516490   \n",
            "2  0.602139  0.156843  ...  0.156843 -0.464009  0.602139  0.156843 -0.464009   \n",
            "\n",
            "       1496      1497      1498      1499      1500  \n",
            "0 -0.668873  0.062528 -0.388812 -0.668873  0.062528  \n",
            "1 -0.293729 -0.499436 -0.516490 -0.293729 -0.499436  \n",
            "2  0.602139  0.156843 -0.464009  0.602139  0.156843  \n",
            "\n",
            "[3 rows x 1501 columns]\n"
          ]
        }
      ]
    },
    {
      "cell_type": "code",
      "source": [],
      "metadata": {
        "id": "IQtUnw1wStMC"
      },
      "execution_count": null,
      "outputs": []
    }
  ]
}